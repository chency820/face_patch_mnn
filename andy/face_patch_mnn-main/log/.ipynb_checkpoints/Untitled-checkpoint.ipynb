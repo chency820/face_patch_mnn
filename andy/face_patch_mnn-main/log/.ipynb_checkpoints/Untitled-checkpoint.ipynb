{
 "cells": [
  {
   "cell_type": "code",
   "execution_count": 1,
   "metadata": {},
   "outputs": [],
   "source": [
    "import numpy as np\n",
    "file = 'ck+_log.log'\n",
    "list_txt = open(file,'r')\n",
    "content = list_txt.readlines()"
   ]
  },
  {
   "cell_type": "code",
   "execution_count": 2,
   "metadata": {},
   "outputs": [
    {
     "data": {
      "text/plain": [
       "['2019-12-27 15:58:32,690 INFO      best_test_acc: 92.30769348144531\\n',\n",
       " '2019-12-27 15:59:19,938 INFO      best_test_acc: 100.0\\n',\n",
       " '2019-12-27 16:00:07,778 INFO      best_test_acc: 96.66666412353516\\n',\n",
       " '2019-12-27 16:00:57,984 INFO      best_test_acc: 96.96969604492188\\n',\n",
       " '2019-12-27 16:01:43,162 INFO      best_test_acc: 100.0\\n',\n",
       " '2019-12-27 16:02:25,416 INFO      best_test_acc: 96.7741928100586\\n',\n",
       " '2019-12-27 16:03:07,517 INFO      best_test_acc: 100.0\\n',\n",
       " '2019-12-27 16:03:48,735 INFO      best_test_acc: 100.0\\n',\n",
       " '2019-12-27 16:04:29,125 INFO      best_test_acc: 100.0\\n',\n",
       " '2019-12-27 16:05:09,536 INFO      best_test_acc: 96.7741928100586\\n',\n",
       " '2019-12-27 16:09:31,380 INFO      best_test_acc: 92.30769348144531\\n',\n",
       " '2019-12-27 16:10:18,758 INFO      best_test_acc: 100.0\\n',\n",
       " '2019-12-27 16:11:07,333 INFO      best_test_acc: 96.66666412353516\\n',\n",
       " '2019-12-27 16:11:58,230 INFO      best_test_acc: 96.96969604492188\\n',\n",
       " '2019-12-27 16:12:50,549 INFO      best_test_acc: 97.14286041259766\\n',\n",
       " '2019-12-27 16:13:38,837 INFO      best_test_acc: 96.7741928100586\\n',\n",
       " '2019-12-27 16:14:29,494 INFO      best_test_acc: 100.0\\n',\n",
       " '2019-12-27 16:15:21,071 INFO      best_test_acc: 100.0\\n',\n",
       " '2019-12-27 16:16:11,241 INFO      best_test_acc: 100.0\\n',\n",
       " '2019-12-27 16:17:02,051 INFO      best_test_acc: 93.54838562011719\\n',\n",
       " '2019-12-27 16:41:46,526 INFO      best_test_acc: 92.30769348144531\\n',\n",
       " '2019-12-27 16:42:33,526 INFO      best_test_acc: 100.0\\n',\n",
       " '2019-12-27 16:43:20,088 INFO      best_test_acc: 96.66666412353516\\n',\n",
       " '2019-12-27 16:44:08,282 INFO      best_test_acc: 96.96969604492188\\n',\n",
       " '2019-12-27 16:45:00,137 INFO      best_test_acc: 97.14286041259766\\n',\n",
       " '2019-12-27 16:45:49,711 INFO      best_test_acc: 96.7741928100586\\n',\n",
       " '2019-12-27 16:46:38,713 INFO      best_test_acc: 100.0\\n',\n",
       " '2019-12-27 16:47:29,393 INFO      best_test_acc: 100.0\\n',\n",
       " '2019-12-27 16:48:19,748 INFO      best_test_acc: 100.0\\n',\n",
       " '2019-12-27 16:49:08,552 INFO      best_test_acc: 93.54838562011719\\n']"
      ]
     },
     "execution_count": 2,
     "metadata": {},
     "output_type": "execute_result"
    }
   ],
   "source": [
    "content"
   ]
  },
  {
   "cell_type": "code",
   "execution_count": 3,
   "metadata": {},
   "outputs": [
    {
     "data": {
      "text/plain": [
       "20"
      ]
     },
     "execution_count": 3,
     "metadata": {},
     "output_type": "execute_result"
    }
   ],
   "source": [
    "len(content[:-10])"
   ]
  },
  {
   "cell_type": "code",
   "execution_count": 4,
   "metadata": {},
   "outputs": [
    {
     "data": {
      "text/plain": [
       "30"
      ]
     },
     "execution_count": 4,
     "metadata": {},
     "output_type": "execute_result"
    }
   ],
   "source": [
    "len(content)"
   ]
  },
  {
   "cell_type": "code",
   "execution_count": 5,
   "metadata": {},
   "outputs": [
    {
     "name": "stdout",
     "output_type": "stream",
     "text": [
      "92.30769348144531\n",
      "100.0\n",
      "96.66666412353516\n",
      "96.96969604492188\n",
      "97.14286041259766\n",
      "96.7741928100586\n",
      "100.0\n",
      "100.0\n",
      "100.0\n",
      "93.54838562011719\n"
     ]
    }
   ],
   "source": [
    "acc_list = []\n",
    "for line in content[-10:]:\n",
    "    line = line.replace(\"\\n\", '')\n",
    "    line = line.split(\"      \")\n",
    "    print(line[1][15:])\n",
    "    line = line[1][15:]\n",
    "    acc_list.append(float(line))"
   ]
  },
  {
   "cell_type": "code",
   "execution_count": 6,
   "metadata": {},
   "outputs": [
    {
     "data": {
      "text/plain": [
       "97.34094924926758"
      ]
     },
     "execution_count": 6,
     "metadata": {},
     "output_type": "execute_result"
    }
   ],
   "source": [
    "np.array(acc_list).mean()"
   ]
  },
  {
   "cell_type": "code",
   "execution_count": 7,
   "metadata": {},
   "outputs": [],
   "source": [
    "#np.array(acc_list[10:]).mean()"
   ]
  },
  {
   "cell_type": "code",
   "execution_count": 8,
   "metadata": {},
   "outputs": [],
   "source": [
    "#len(acc_list[10:])"
   ]
  },
  {
   "cell_type": "code",
   "execution_count": null,
   "metadata": {
    "collapsed": true
   },
   "outputs": [],
   "source": []
  }
 ],
 "metadata": {
  "kernelspec": {
   "display_name": "Python 3",
   "language": "python",
   "name": "python3"
  },
  "language_info": {
   "codemirror_mode": {
    "name": "ipython",
    "version": 3
   },
   "file_extension": ".py",
   "mimetype": "text/x-python",
   "name": "python",
   "nbconvert_exporter": "python",
   "pygments_lexer": "ipython3",
   "version": "3.6.8"
  }
 },
 "nbformat": 4,
 "nbformat_minor": 2
}
